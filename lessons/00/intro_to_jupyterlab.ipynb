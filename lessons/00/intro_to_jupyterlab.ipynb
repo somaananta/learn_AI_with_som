{
  "cells": [
    {
      "cell_type": "code",
      "source": [
        "import numpy as np\n",
        "np.random.seed(1)\n",
        "np.random.random()\n"
      ],
      "metadata": {
        "id": "HE6-onH8Nl-z",
        "outputId": "b1670806-4c2e-47cd-feed-e83699561641",
        "colab": {
          "base_uri": "https://localhost:8080/"
        }
      },
      "id": "HE6-onH8Nl-z",
      "execution_count": 7,
      "outputs": [
        {
          "output_type": "execute_result",
          "data": {
            "text/plain": [
              "0.417022004702574"
            ]
          },
          "metadata": {},
          "execution_count": 7
        }
      ]
    },
    {
      "cell_type": "code",
      "source": [
        "np.random.uniform(1,2)"
      ],
      "metadata": {
        "id": "dQrqcrLLPPfq",
        "outputId": "ea56a829-99e8-415b-b3ec-86a06eb37d78",
        "colab": {
          "base_uri": "https://localhost:8080/"
        }
      },
      "id": "dQrqcrLLPPfq",
      "execution_count": 11,
      "outputs": [
        {
          "output_type": "execute_result",
          "data": {
            "text/plain": [
              "1.1467558908171132"
            ]
          },
          "metadata": {},
          "execution_count": 11
        }
      ]
    },
    {
      "cell_type": "code",
      "source": [
        "np.random.uniform(1,100,10)"
      ],
      "metadata": {
        "id": "8iuUFGk2QQzr",
        "outputId": "c968568a-68b1-4782-b2ee-8d9551743309",
        "colab": {
          "base_uri": "https://localhost:8080/"
        }
      },
      "id": "8iuUFGk2QQzr",
      "execution_count": 12,
      "outputs": [
        {
          "output_type": "execute_result",
          "data": {
            "text/plain": [
              "array([10.14152088, 19.43976093, 35.21051198, 40.27997995, 54.34285667,\n",
              "       42.50025693, 68.83673054, 21.24077272, 87.9336262 ,  3.71137173])"
            ]
          },
          "metadata": {},
          "execution_count": 12
        }
      ]
    },
    {
      "cell_type": "code",
      "source": [
        "np.random.uniform(1,100,10).reshape(2,5)"
      ],
      "metadata": {
        "id": "p9eWoUDrQqy6",
        "outputId": "7db58f0e-f0c5-4cb6-c67f-fe3583cd6e85",
        "colab": {
          "base_uri": "https://localhost:8080/"
        }
      },
      "id": "p9eWoUDrQqy6",
      "execution_count": 13,
      "outputs": [
        {
          "output_type": "execute_result",
          "data": {
            "text/plain": [
              "array([[67.37628351, 42.31317543, 56.31029302, 14.89830692, 20.61204742],\n",
              "       [80.2737123 , 96.857896  , 32.02899364, 69.53993895, 87.76252608]])"
            ]
          },
          "metadata": {},
          "execution_count": 13
        }
      ]
    },
    {
      "cell_type": "code",
      "source": [
        "np.random.randint(1,10,15).reshape(3,5)"
      ],
      "metadata": {
        "id": "7O6sLmAUSwOD",
        "outputId": "fcd5c666-a67e-4d34-b48b-d0d0f5b12072",
        "colab": {
          "base_uri": "https://localhost:8080/"
        }
      },
      "id": "7O6sLmAUSwOD",
      "execution_count": 14,
      "outputs": [
        {
          "output_type": "execute_result",
          "data": {
            "text/plain": [
              "array([[2, 9, 9, 4, 9],\n",
              "       [8, 4, 7, 6, 2],\n",
              "       [4, 5, 9, 2, 5]])"
            ]
          },
          "metadata": {},
          "execution_count": 14
        }
      ]
    },
    {
      "cell_type": "code",
      "source": [
        "a=np.random.randint(1,10,6)\n",
        "a"
      ],
      "metadata": {
        "id": "UcOBJTt_S-ib",
        "outputId": "235c2f83-fa5f-448a-f8d5-08183229ed0f",
        "colab": {
          "base_uri": "https://localhost:8080/"
        }
      },
      "id": "UcOBJTt_S-ib",
      "execution_count": 18,
      "outputs": [
        {
          "output_type": "execute_result",
          "data": {
            "text/plain": [
              "array([8, 5, 6, 4, 7, 9])"
            ]
          },
          "metadata": {},
          "execution_count": 18
        }
      ]
    },
    {
      "cell_type": "code",
      "source": [
        "np.max(a)"
      ],
      "metadata": {
        "id": "waXPukmHTbfT",
        "outputId": "d050d73c-b55e-47c8-f445-68b26a431269",
        "colab": {
          "base_uri": "https://localhost:8080/"
        }
      },
      "id": "waXPukmHTbfT",
      "execution_count": 19,
      "outputs": [
        {
          "output_type": "execute_result",
          "data": {
            "text/plain": [
              "9"
            ]
          },
          "metadata": {},
          "execution_count": 19
        }
      ]
    },
    {
      "cell_type": "code",
      "source": [],
      "metadata": {
        "id": "CsedWYW2Tlyb"
      },
      "id": "CsedWYW2Tlyb",
      "execution_count": null,
      "outputs": []
    }
  ],
  "metadata": {
    "kernelspec": {
      "display_name": "Python 3 (ipykernel)",
      "language": "python",
      "name": "python3"
    },
    "language_info": {
      "codemirror_mode": {
        "name": "ipython",
        "version": 3
      },
      "file_extension": ".py",
      "mimetype": "text/x-python",
      "name": "python",
      "nbconvert_exporter": "python",
      "pygments_lexer": "ipython3",
      "version": "3.11.5"
    },
    "colab": {
      "provenance": []
    }
  },
  "nbformat": 4,
  "nbformat_minor": 5
}